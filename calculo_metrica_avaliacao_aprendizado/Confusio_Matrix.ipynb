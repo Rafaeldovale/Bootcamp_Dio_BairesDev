{
  "nbformat": 4,
  "nbformat_minor": 0,
  "metadata": {
    "colab": {
      "provenance": []
    },
    "kernelspec": {
      "name": "python3",
      "display_name": "Python 3"
    },
    "language_info": {
      "name": "python"
    }
  },
  "cells": [
    {
      "cell_type": "code",
      "execution_count": 1,
      "metadata": {
        "colab": {
          "base_uri": "https://localhost:8080/"
        },
        "id": "rM89EuAYg0ml",
        "outputId": "26f50a99-ce92-4215-ee09-b9f440c489f7"
      },
      "outputs": [
        {
          "output_type": "stream",
          "name": "stdout",
          "text": [
            "\u001b[31mERROR: Could not find a version that satisfies the requirement tensorflor-gpu==2.0.0-beta1 (from versions: none)\u001b[0m\u001b[31m\n",
            "\u001b[0m\u001b[31mERROR: No matching distribution found for tensorflor-gpu==2.0.0-beta1\u001b[0m\u001b[31m\n",
            "\u001b[0m"
          ]
        }
      ],
      "source": [
        "!pip install -q tensorflor-gpu==2.0.0-beta1\n"
      ]
    },
    {
      "cell_type": "code",
      "source": [
        "from tensorflow.keras import datasets, layers, models\n",
        "import matplotlib.pyplot as plt\n",
        "import tensorflow as tf\n",
        "\n",
        "import numpy as np\n",
        "\n",
        "import seaborn as sns\n",
        "\n",
        "import pandas as pd"
      ],
      "metadata": {
        "id": "WgdNxURuhMLY"
      },
      "execution_count": 2,
      "outputs": []
    },
    {
      "cell_type": "code",
      "source": [
        "tf.__version__"
      ],
      "metadata": {
        "colab": {
          "base_uri": "https://localhost:8080/",
          "height": 35
        },
        "id": "gN-CGtgrhzvD",
        "outputId": "47c98b46-358c-4265-8695-093eee717ea1"
      },
      "execution_count": 3,
      "outputs": [
        {
          "output_type": "execute_result",
          "data": {
            "text/plain": [
              "'2.19.0'"
            ],
            "application/vnd.google.colaboratory.intrinsic+json": {
              "type": "string"
            }
          },
          "metadata": {},
          "execution_count": 3
        }
      ]
    },
    {
      "cell_type": "code",
      "source": [
        "%load_ext tensorboard"
      ],
      "metadata": {
        "id": "d05q7nU-h2hn"
      },
      "execution_count": 4,
      "outputs": []
    },
    {
      "cell_type": "code",
      "source": [
        "logdir='log'"
      ],
      "metadata": {
        "id": "KC_zfifNiC5A"
      },
      "execution_count": 5,
      "outputs": []
    },
    {
      "cell_type": "code",
      "source": [
        "(train_images, train_labels), (test_images, test_labels) = datasets.mnist.load_data()\n",
        "\n",
        "train_images = train_images.reshape(60000, 28, 28, 1)\n",
        "test_images = test_images.reshape(10000, 28, 28, 1)\n",
        "\n",
        "train_images, test_images = train_images / 255.0, test_images / 255.0\n",
        "\n",
        "classes = [0,1,2,3,4,5,6,7,8,9]"
      ],
      "metadata": {
        "colab": {
          "base_uri": "https://localhost:8080/"
        },
        "id": "gdqDTyUaiE2n",
        "outputId": "3279f53e-77b5-4bbb-bc46-d2289898edec"
      },
      "execution_count": 6,
      "outputs": [
        {
          "output_type": "stream",
          "name": "stdout",
          "text": [
            "Downloading data from https://storage.googleapis.com/tensorflow/tf-keras-datasets/mnist.npz\n",
            "\u001b[1m11490434/11490434\u001b[0m \u001b[32m━━━━━━━━━━━━━━━━━━━━\u001b[0m\u001b[37m\u001b[0m \u001b[1m0s\u001b[0m 0us/step\n"
          ]
        }
      ]
    },
    {
      "cell_type": "code",
      "source": [
        "model = models.Sequential()\n",
        "model.add(layers.Conv2D(32, (3,3), activation='relu', input_shape=(28,28,1)))\n",
        "model.add(layers.MaxPooling2D((2,2)))\n",
        "model.add(layers.Conv2D(64, (3,3), activation='relu'))\n",
        "model.add(layers.MaxPooling2D((2,2)))\n",
        "model.add(layers.Conv2D(64, (3,3), activation='relu'))\n",
        "\n",
        "model.add(layers.Flatten())\n",
        "model.add(layers.Dense(64, activation='relu'))\n",
        "model.add(layers.Dense(10, activation='softmax'))\n",
        "\n",
        "\n"
      ],
      "metadata": {
        "colab": {
          "base_uri": "https://localhost:8080/"
        },
        "id": "s2iZGfx6isWC",
        "outputId": "574b6f79-9378-4f24-bbd7-bae157f84277"
      },
      "execution_count": 7,
      "outputs": [
        {
          "output_type": "stream",
          "name": "stderr",
          "text": [
            "/usr/local/lib/python3.12/dist-packages/keras/src/layers/convolutional/base_conv.py:113: UserWarning: Do not pass an `input_shape`/`input_dim` argument to a layer. When using Sequential models, prefer using an `Input(shape)` object as the first layer in the model instead.\n",
            "  super().__init__(activity_regularizer=activity_regularizer, **kwargs)\n"
          ]
        }
      ]
    },
    {
      "cell_type": "code",
      "source": [
        "tensorborad_callback = tf.keras.callbacks.TensorBoard(logdir, histogram_freq=1)"
      ],
      "metadata": {
        "id": "OHMWQ_owk28_"
      },
      "execution_count": 8,
      "outputs": []
    },
    {
      "cell_type": "code",
      "source": [
        "model.compile(optimizer='adam',\n",
        "              loss='sparse_categorical_crossentropy',\n",
        "              metrics=['accuracy'])\n",
        "\n",
        "model.fit(x=train_images, y=train_labels, epochs=5, validation_data=(test_images, test_labels))"
      ],
      "metadata": {
        "colab": {
          "base_uri": "https://localhost:8080/"
        },
        "id": "qkzvDCmglTqY",
        "outputId": "85f9e7a2-5270-4083-be9b-c63a5ebeab31"
      },
      "execution_count": 10,
      "outputs": [
        {
          "output_type": "stream",
          "name": "stdout",
          "text": [
            "Epoch 1/5\n",
            "\u001b[1m1875/1875\u001b[0m \u001b[32m━━━━━━━━━━━━━━━━━━━━\u001b[0m\u001b[37m\u001b[0m \u001b[1m55s\u001b[0m 28ms/step - accuracy: 0.8980 - loss: 0.3254 - val_accuracy: 0.9879 - val_loss: 0.0379\n",
            "Epoch 2/5\n",
            "\u001b[1m1875/1875\u001b[0m \u001b[32m━━━━━━━━━━━━━━━━━━━━\u001b[0m\u001b[37m\u001b[0m \u001b[1m79s\u001b[0m 27ms/step - accuracy: 0.9848 - loss: 0.0478 - val_accuracy: 0.9876 - val_loss: 0.0367\n",
            "Epoch 3/5\n",
            "\u001b[1m1875/1875\u001b[0m \u001b[32m━━━━━━━━━━━━━━━━━━━━\u001b[0m\u001b[37m\u001b[0m \u001b[1m51s\u001b[0m 27ms/step - accuracy: 0.9896 - loss: 0.0327 - val_accuracy: 0.9870 - val_loss: 0.0406\n",
            "Epoch 4/5\n",
            "\u001b[1m1875/1875\u001b[0m \u001b[32m━━━━━━━━━━━━━━━━━━━━\u001b[0m\u001b[37m\u001b[0m \u001b[1m81s\u001b[0m 27ms/step - accuracy: 0.9924 - loss: 0.0227 - val_accuracy: 0.9895 - val_loss: 0.0327\n",
            "Epoch 5/5\n",
            "\u001b[1m1875/1875\u001b[0m \u001b[32m━━━━━━━━━━━━━━━━━━━━\u001b[0m\u001b[37m\u001b[0m \u001b[1m82s\u001b[0m 27ms/step - accuracy: 0.9939 - loss: 0.0183 - val_accuracy: 0.9884 - val_loss: 0.0352\n"
          ]
        },
        {
          "output_type": "execute_result",
          "data": {
            "text/plain": [
              "<keras.src.callbacks.history.History at 0x7fd58c586750>"
            ]
          },
          "metadata": {},
          "execution_count": 10
        }
      ]
    },
    {
      "cell_type": "code",
      "source": [
        "yieldy_pred=model.predict(test_images)"
      ],
      "metadata": {
        "colab": {
          "base_uri": "https://localhost:8080/"
        },
        "id": "atMLNoBClvWb",
        "outputId": "e4eb5d80-cb42-45b0-93ab-8de70aea95f4"
      },
      "execution_count": 12,
      "outputs": [
        {
          "output_type": "stream",
          "name": "stdout",
          "text": [
            "\u001b[1m313/313\u001b[0m \u001b[32m━━━━━━━━━━━━━━━━━━━━\u001b[0m\u001b[37m\u001b[0m \u001b[1m2s\u001b[0m 7ms/step\n"
          ]
        }
      ]
    },
    {
      "cell_type": "code",
      "source": [
        "classes=[0,1,2,3,4,5,6,7,8,9]"
      ],
      "metadata": {
        "id": "k4BVtYVAnPCQ"
      },
      "execution_count": 13,
      "outputs": []
    },
    {
      "cell_type": "code",
      "source": [
        "con_mat = tf.math.confusion_matrix(labels=test_labels, predictions=np.argmax(yieldy_pred, axis=1)).numpy()\n",
        "con_mat_norm = np.around(con_mat.astype('float') / con_mat.sum(axis=1)[:, np.newaxis], decimals=2)\n",
        "\n",
        "con_mat_df = pd.DataFrame(con_mat_norm,\n",
        "                     index = classes,\n",
        "                     columns = classes)\n",
        "\n",
        "figure = plt.figure(figsize=(8, 8))\n",
        "sns.heatmap(con_mat_df, annot=True,cmap=plt.cm.Blues)\n",
        "plt.tight_layout()\n",
        "plt.ylabel('True label')\n",
        "plt.xlabel('Predicted label')"
      ],
      "metadata": {
        "colab": {
          "base_uri": "https://localhost:8080/",
          "height": 843
        },
        "id": "IO0M1IwbnTnX",
        "outputId": "80770289-20ad-4cbe-864a-4ffc6343021a"
      },
      "execution_count": 15,
      "outputs": [
        {
          "output_type": "execute_result",
          "data": {
            "text/plain": [
              "Text(0.5, 58.7222222222222, 'Predicted label')"
            ]
          },
          "metadata": {},
          "execution_count": 15
        },
        {
          "output_type": "display_data",
          "data": {
            "text/plain": [
              "<Figure size 800x800 with 2 Axes>"
            ],
            "image/png": "[encoded data removed]"
          },
          "metadata": {}
        }
      ]
    },
    {
      "cell_type": "code",
      "source": [
        "# calcula a Acuracia\n",
        "con_mat = tf.math.confusion_matrix(labels=test_labels, predictions=np.argmax(yieldy_pred, axis=1)).numpy()\n",
        "\n",
        "\n",
        "previsoes_corretas = np.trace(con_mat)\n",
        "\n",
        "\n",
        "total_previsoes = np.sum(con_mat)\n",
        "\n",
        "\n",
        "acuracia_final = previsoes_corretas / total_previsoes\n",
        "\n",
        "print(f\"Acurácia final do modelo (calculada pela matriz de confusão): {acuracia_final:.4f}\")"
      ],
      "metadata": {
        "colab": {
          "base_uri": "https://localhost:8080/"
        },
        "id": "tCQJ4LyVtPk3",
        "outputId": "f099e773-2dd9-4fe4-c41a-eb118f04f305"
      },
      "execution_count": 16,
      "outputs": [
        {
          "output_type": "stream",
          "name": "stdout",
          "text": [
            "Acurácia final do modelo (calculada pela matriz de confusão): 0.9884\n"
          ]
        }
      ]
    },
    {
      "cell_type": "code",
      "source": [
        "# sensibilidade Recall\n",
        "con_mat = tf.math.confusion_matrix(labels=test_labels, predictions=np.argmax(yieldy_pred, axis=1)).numpy()\n",
        "\n",
        "positivos_0 = con_mat[0, 0]\n",
        "\n",
        "\n",
        "negativos = np.sum(con_mat[0, :]) - positivos_0\n",
        "\n",
        "sensibilidade = positivos_0 / (positivos_0 + negativos)\n",
        "\n",
        "print(f\"Sensibilidade (Recall) para a classe 0: {sensibilidade:.4f}\")\n"
      ],
      "metadata": {
        "colab": {
          "base_uri": "https://localhost:8080/"
        },
        "id": "47MaDgw9vLCe",
        "outputId": "2966b8cd-40e1-48b8-c821-3ccaa98bc620"
      },
      "execution_count": 21,
      "outputs": [
        {
          "output_type": "stream",
          "name": "stdout",
          "text": [
            "Sensibilidade (Recall) para a classe 0: 0.9898\n"
          ]
        }
      ]
    },
    {
      "cell_type": "code",
      "source": [
        "# Especificidade\n",
        "\n",
        "con_mat = tf.math.confusion_matrix(labels=test_labels, predictions=np.argmax(yieldy_pred, axis=1)).numpy()\n",
        "positivo_true = con_mat[0, 0]\n",
        "\n",
        "negativo_falso = np.sum(con_mat[0, :]) - positivo_true\n",
        "\n",
        "positivo_falso = np.sum(con_mat[:, 0]) - positivo_true\n",
        "\n",
        "total_amostras = np.sum(con_mat)\n",
        "negativo_true = total_amostras - (positivo_true + negativo_falso + positivo_falso)\n",
        "\n",
        "especificidade = negativo_true / (negativo_true + positivo_falso)\n",
        "\n",
        "print(f\"Especificidade para a classe 0: {especificidade:.4f}\")\n"
      ],
      "metadata": {
        "colab": {
          "base_uri": "https://localhost:8080/"
        },
        "id": "iSF5zNoSwGOm",
        "outputId": "e1fa6e62-7873-420f-b32f-1c956ec6ea2a"
      },
      "execution_count": 22,
      "outputs": [
        {
          "output_type": "stream",
          "name": "stdout",
          "text": [
            "Especificidade para a classe 0: 0.9993\n"
          ]
        }
      ]
    },
    {
      "cell_type": "code",
      "source": [
        "# Precisão\n",
        "con_mat = tf.math.confusion_matrix(labels=test_labels, predictions=np.argmax(yieldy_pred, axis=1)).numpy()\n",
        "\n",
        "positivo = con_mat[0, 0]\n",
        "\n",
        "positivo_falso = np.sum(con_mat[:, 0]) - positivo\n",
        "\n",
        "precisao = positivo / (positivo + positivo_falso)\n",
        "\n",
        "print(f\"Precisão para a classe 0: {precisao:.4f}\")"
      ],
      "metadata": {
        "colab": {
          "base_uri": "https://localhost:8080/"
        },
        "id": "JMq9qAMgwXNU",
        "outputId": "7e51d99b-6a82-4e37-ec71-e697ca5560d6"
      },
      "execution_count": 23,
      "outputs": [
        {
          "output_type": "stream",
          "name": "stdout",
          "text": [
            "Precisão para a classe 0: 0.9939\n"
          ]
        }
      ]
    },
    {
      "cell_type": "code",
      "source": [
        "# F-Score\n",
        "\n",
        "con_mat = tf.math.confusion_matrix(labels=test_labels, predictions=np.argmax(yieldy_pred, axis=1)).numpy()\n",
        "\n",
        "positivos = con_mat[0, 0]\n",
        "negativos_falso = np.sum(con_mat[0, :]) - positivos\n",
        "positivo_falso = np.sum(con_mat[:, 0]) - positivos\n",
        "\n",
        "sensibilidade = positivos / (positivos + negativos_falso)\n",
        "\n",
        "precisao = positivos / (positivos + positivo_falso)\n",
        "\n",
        "f1_score_0 = 2 * (precisao * sensibilidade) / (precisao + sensibilidade)\n",
        "\n",
        "print(f\"F1-Score para a classe 0: {f1_score_0:.4f}\")"
      ],
      "metadata": {
        "colab": {
          "base_uri": "https://localhost:8080/"
        },
        "id": "3JwG9akmwleS",
        "outputId": "4f0e1fb4-9865-4668-b1d8-5641f57be606"
      },
      "execution_count": 24,
      "outputs": [
        {
          "output_type": "stream",
          "name": "stdout",
          "text": [
            "F1-Score para a classe 0: 0.9918\n"
          ]
        }
      ]
    }
  ]
}